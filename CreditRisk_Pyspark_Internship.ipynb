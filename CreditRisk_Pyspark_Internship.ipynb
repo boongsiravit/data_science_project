{
 "cells": [
  {
   "cell_type": "code",
   "execution_count": 1,
   "metadata": {},
   "outputs": [],
   "source": [
    "from pyspark.sql import *"
   ]
  },
  {
   "cell_type": "code",
   "execution_count": 2,
   "metadata": {},
   "outputs": [],
   "source": [
    "spark = SparkSession.builder.appName('myfinishedproj7').getOrCreate()"
   ]
  },
  {
   "cell_type": "code",
   "execution_count": 3,
   "metadata": {},
   "outputs": [],
   "source": [
    "data = spark.read.csv('gs://imcbucketbbb/loan_select7.csv',inferSchema=True,header=True)"
   ]
  },
  {
   "cell_type": "code",
   "execution_count": 6,
   "metadata": {},
   "outputs": [
    {
     "name": "stdout",
     "output_type": "stream",
     "text": [
      "root\n",
      " |-- loan_outcome: integer (nullable = true)\n",
      " |-- loan_amnt: integer (nullable = true)\n",
      " |-- int_rate: double (nullable = true)\n",
      " |-- grade: string (nullable = true)\n",
      " |-- emp_length: string (nullable = true)\n",
      " |-- home_ownership: string (nullable = true)\n",
      " |-- annual_inc: double (nullable = true)\n",
      " |-- term: string (nullable = true)\n",
      " |-- sub_grade: string (nullable = true)\n",
      " |-- purpose: string (nullable = true)\n",
      " |-- dti: double (nullable = true)\n",
      " |-- emp_title: string (nullable = true)\n",
      " |-- tot_cur_bal: double (nullable = true)\n",
      " |-- avg_cur_bal: double (nullable = true)\n",
      " |-- home_ownership2: string (nullable = true)\n",
      " |-- purpose2: string (nullable = true)\n",
      "\n"
     ]
    }
   ],
   "source": [
    "data.printSchema()"
   ]
  },
  {
   "cell_type": "code",
   "execution_count": 5,
   "metadata": {},
   "outputs": [],
   "source": [
    "# data = data.drop('_c0')"
   ]
  },
  {
   "cell_type": "code",
   "execution_count": 65,
   "metadata": {},
   "outputs": [
    {
     "name": "stdout",
     "output_type": "stream",
     "text": [
      "+------------+---------+--------+-----+----------+--------------+----------+---------+---------+------------------+-----+--------------------+-----------+-----------+---------------+--------+\n",
      "|loan_outcome|loan_amnt|int_rate|grade|emp_length|home_ownership|annual_inc|     term|sub_grade|           purpose|  dti|           emp_title|tot_cur_bal|avg_cur_bal|home_ownership2|purpose2|\n",
      "+------------+---------+--------+-----+----------+--------------+----------+---------+---------+------------------+-----+--------------------+-----------+-----------+---------------+--------+\n",
      "|           0|     4500|   11.31|    B| 10+ years|          RENT|   38500.0|36 months|       B3|       credit_card| 4.64|Accounts Examiner...|    29137.0|     2428.0|        Not OWN|debt_con|\n",
      "|           0|    20000|   17.97|    D|   4 years|          RENT|   57000.0|60 months|       D1|debt_consolidation|22.18|   Front office Lead|    33356.0|     3336.0|        Not OWN|debt_con|\n",
      "|           0|     6600|   11.31|    B| 10+ years|          RENT|   45000.0|36 months|       B3|       credit_card|16.21|Sewell collision ...|    26836.0|     4473.0|        Not OWN|debt_con|\n",
      "|           0|     2500|   13.56|    C|   5 years|          RENT|   42000.0|36 months|       C1|             other|15.09|             Manager|    18649.0|     6216.0|        Not OWN|   other|\n",
      "|           0|     4000|   17.97|    D|   5 years|      MORTGAGE|   60000.0|36 months|       D1|             house| 19.1|     service advisor|   106556.0|     9687.0|        Not OWN|   other|\n",
      "|           0|     2700|    8.19|    A|   4 years|           OWN|   24000.0|36 months|       A4|       credit_card|24.95|             Stylist|    75363.0|     3589.0|            OWN|debt_con|\n",
      "|           0|     5000|    7.56|    A|   5 years|      MORTGAGE|   98000.0|36 months|       A3|       credit_card|14.78|Supply chain mana...|    50831.0|     8472.0|        Not OWN|debt_con|\n",
      "|           0|    12950|    7.56|    A| 10+ years|      MORTGAGE|   55000.0|36 months|       A3|debt_consolidation|19.88|             Teacher|   229904.0|    15327.0|        Not OWN|debt_con|\n",
      "|           0|    10450|   12.98|    B| 10+ years|      MORTGAGE|   58000.0|60 months|       B5|       credit_card|21.17|  Office Assistant 1|   197095.0|     9855.0|        Not OWN|debt_con|\n",
      "|           0|    10000|   12.98|    B|    1 year|      MORTGAGE|   60000.0|60 months|       B5|               car|12.25|kitchen and bath ...|   157586.0|     6852.0|        Not OWN|   other|\n",
      "|           0|    29050|   10.33|    B|  < 1 year|      MORTGAGE|   68000.0|36 months|       B1|  home_improvement|23.65|Executive Casino ...|   227183.0|    13364.0|        Not OWN|   other|\n",
      "|           0|     1000|   13.56|    C|    1 year|          RENT|   42140.0|36 months|       C1|            moving|24.18|    Customer service|    43629.0|     6233.0|        Not OWN|   other|\n",
      "|           0|     3500|   18.94|    D| 10+ years|      MORTGAGE|  127300.0|36 months|       D2|    small_business|17.91|    District Manager|   239730.0|    29966.0|        Not OWN|   other|\n",
      "|           0|    10000|    11.8|    B|    1 year|          RENT|  100000.0|36 months|       B4|debt_consolidation| 10.6|Director of Maint...|    23547.0|     2616.0|        Not OWN|debt_con|\n",
      "|           0|    10000|    8.19|    A|   8 years|      MORTGAGE|   65000.0|36 months|       A4|debt_consolidation|19.87|   Teacher and Coach|    36228.0|     5175.0|        Not OWN|debt_con|\n",
      "|           0|     9500|    8.19|    A|   5 years|          RENT|   50000.0|36 months|       A4|       credit_card|11.43|  Table Games Dealer|     9112.0|     1302.0|        Not OWN|debt_con|\n",
      "|           0|    10000|   10.72|    B|   5 years|          RENT|   45000.0|36 months|       B2|       credit_card|14.96|       Mobile Expert|    15271.0|     1175.0|        Not OWN|debt_con|\n",
      "|           0|     9000|   18.94|    D|   5 years|      MORTGAGE|   47000.0|36 months|       D2|           medical|15.34|   Customer Advocate|     9468.0|      789.0|        Not OWN|   other|\n",
      "|           0|    10000|    8.81|    A|  < 1 year|      MORTGAGE|  143600.0|36 months|       A5|debt_consolidation|17.17|    Verizon Engineer|   257595.0|    25760.0|        Not OWN|debt_con|\n",
      "|           0|     5000|    8.81|    A| 10+ years|          RENT|   42000.0|36 months|       A5|debt_consolidation|14.17|  Dietary Supervisor|    17124.0|     5708.0|        Not OWN|debt_con|\n",
      "+------------+---------+--------+-----+----------+--------------+----------+---------+---------+------------------+-----+--------------------+-----------+-----------+---------------+--------+\n",
      "only showing top 20 rows\n",
      "\n"
     ]
    }
   ],
   "source": [
    "data.show()"
   ]
  },
  {
   "cell_type": "code",
   "execution_count": 7,
   "metadata": {},
   "outputs": [
    {
     "name": "stdout",
     "output_type": "stream",
     "text": [
      "root\n",
      " |-- loan_outcome: integer (nullable = true)\n",
      " |-- loan_amnt: integer (nullable = true)\n",
      " |-- int_rate: double (nullable = true)\n",
      " |-- grade: string (nullable = true)\n",
      " |-- emp_length: string (nullable = true)\n",
      " |-- home_ownership: string (nullable = true)\n",
      " |-- annual_inc: double (nullable = true)\n",
      " |-- term: string (nullable = true)\n",
      " |-- sub_grade: string (nullable = true)\n",
      " |-- purpose: string (nullable = true)\n",
      " |-- dti: double (nullable = true)\n",
      " |-- emp_title: string (nullable = true)\n",
      " |-- tot_cur_bal: double (nullable = true)\n",
      " |-- avg_cur_bal: double (nullable = true)\n",
      " |-- home_ownership2: string (nullable = true)\n",
      " |-- purpose2: string (nullable = true)\n",
      "\n"
     ]
    }
   ],
   "source": [
    "data.printSchema()"
   ]
  },
  {
   "cell_type": "code",
   "execution_count": 8,
   "metadata": {},
   "outputs": [],
   "source": [
    "data1 = data.select('loan_outcome','home_ownership2','annual_inc','term','loan_amnt','grade' )"
   ]
  },
  {
   "cell_type": "code",
   "execution_count": 9,
   "metadata": {},
   "outputs": [
    {
     "name": "stdout",
     "output_type": "stream",
     "text": [
      "+------------+---------------+----------+---------+---------+-----+\n",
      "|loan_outcome|home_ownership2|annual_inc|     term|loan_amnt|grade|\n",
      "+------------+---------------+----------+---------+---------+-----+\n",
      "|           0|        Not OWN|   38500.0|36 months|     4500|    B|\n",
      "|           0|        Not OWN|   57000.0|60 months|    20000|    D|\n",
      "|           0|        Not OWN|   45000.0|36 months|     6600|    B|\n",
      "|           0|        Not OWN|   42000.0|36 months|     2500|    C|\n",
      "|           0|        Not OWN|   60000.0|36 months|     4000|    D|\n",
      "|           0|            OWN|   24000.0|36 months|     2700|    A|\n",
      "|           0|        Not OWN|   98000.0|36 months|     5000|    A|\n",
      "|           0|        Not OWN|   55000.0|36 months|    12950|    A|\n",
      "|           0|        Not OWN|   58000.0|60 months|    10450|    B|\n",
      "|           0|        Not OWN|   60000.0|60 months|    10000|    B|\n",
      "|           0|        Not OWN|   68000.0|36 months|    29050|    B|\n",
      "|           0|        Not OWN|   42140.0|36 months|     1000|    C|\n",
      "|           0|        Not OWN|  127300.0|36 months|     3500|    D|\n",
      "|           0|        Not OWN|  100000.0|36 months|    10000|    B|\n",
      "|           0|        Not OWN|   65000.0|36 months|    10000|    A|\n",
      "|           0|        Not OWN|   50000.0|36 months|     9500|    A|\n",
      "|           0|        Not OWN|   45000.0|36 months|    10000|    B|\n",
      "|           0|        Not OWN|   47000.0|36 months|     9000|    D|\n",
      "|           0|        Not OWN|  143600.0|36 months|    10000|    A|\n",
      "|           0|        Not OWN|   42000.0|36 months|     5000|    A|\n",
      "+------------+---------------+----------+---------+---------+-----+\n",
      "only showing top 20 rows\n",
      "\n"
     ]
    }
   ],
   "source": [
    "data1.show()"
   ]
  },
  {
   "cell_type": "code",
   "execution_count": 10,
   "metadata": {},
   "outputs": [
    {
     "name": "stdout",
     "output_type": "stream",
     "text": [
      "root\n",
      " |-- loan_outcome: integer (nullable = true)\n",
      " |-- home_ownership2: string (nullable = true)\n",
      " |-- annual_inc: double (nullable = true)\n",
      " |-- term: string (nullable = true)\n",
      " |-- loan_amnt: integer (nullable = true)\n",
      " |-- grade: string (nullable = true)\n",
      "\n"
     ]
    }
   ],
   "source": [
    "data1.printSchema()"
   ]
  },
  {
   "cell_type": "code",
   "execution_count": 11,
   "metadata": {},
   "outputs": [],
   "source": [
    "from pyspark.ml.feature import (VectorAssembler,VectorIndexer,\n",
    "                                OneHotEncoder,StringIndexer)"
   ]
  },
  {
   "cell_type": "code",
   "execution_count": 102,
   "metadata": {},
   "outputs": [],
   "source": [
    "purpose_indexer = StringIndexer(inputCol='purpose',outputCol='purposeIndex')\n",
    "purpose_encoder = OneHotEncoder(inputCol='purposeIndex',outputCol='purposeVec')"
   ]
  },
  {
   "cell_type": "code",
   "execution_count": 12,
   "metadata": {},
   "outputs": [],
   "source": [
    "grade_indexer = StringIndexer(inputCol='grade',outputCol='gradeIndex')\n",
    "grade_encoder = OneHotEncoder(inputCol='gradeIndex',outputCol='gradeVec')"
   ]
  },
  {
   "cell_type": "code",
   "execution_count": 12,
   "metadata": {},
   "outputs": [],
   "source": [
    "emp_length_indexer = StringIndexer(inputCol='emp_length',outputCol='emp_lengthIndex')\n",
    "emp_length_encoder = OneHotEncoder(inputCol='emp_lengthIndex',outputCol='emp_lengthVec')"
   ]
  },
  {
   "cell_type": "code",
   "execution_count": 13,
   "metadata": {},
   "outputs": [],
   "source": [
    "home_ownership_indexer = StringIndexer(inputCol='home_ownership2',outputCol='home_ownershipIndex')\n",
    "home_ownership_encoder = OneHotEncoder(inputCol='home_ownershipIndex',outputCol='home_ownershipVec')"
   ]
  },
  {
   "cell_type": "code",
   "execution_count": 14,
   "metadata": {},
   "outputs": [],
   "source": [
    "term_indexer = StringIndexer(inputCol='term',outputCol='termIndex')\n",
    "term_encoder = OneHotEncoder(inputCol='termIndex',outputCol='termVec')"
   ]
  },
  {
   "cell_type": "code",
   "execution_count": 15,
   "metadata": {},
   "outputs": [],
   "source": [
    "assembler = VectorAssembler(inputCols=['loan_amnt' , 'gradeVec' , 'home_ownershipVec' , 'annual_inc' , 'termVec'],outputCol='features')"
   ]
  },
  {
   "cell_type": "code",
   "execution_count": 16,
   "metadata": {},
   "outputs": [],
   "source": [
    "from pyspark.ml.classification import LogisticRegression"
   ]
  },
  {
   "cell_type": "code",
   "execution_count": 17,
   "metadata": {},
   "outputs": [],
   "source": [
    "from pyspark.ml.classification import *"
   ]
  },
  {
   "cell_type": "markdown",
   "metadata": {},
   "source": [
    "## Pipelines "
   ]
  },
  {
   "cell_type": "code",
   "execution_count": 18,
   "metadata": {},
   "outputs": [],
   "source": [
    "from pyspark.ml import Pipeline"
   ]
  },
  {
   "cell_type": "code",
   "execution_count": 19,
   "metadata": {},
   "outputs": [],
   "source": [
    "log_reg_loan = LogisticRegression(featuresCol='features',labelCol='loan_outcome')"
   ]
  },
  {
   "cell_type": "code",
   "execution_count": 20,
   "metadata": {},
   "outputs": [],
   "source": [
    "pipeline = Pipeline(stages=[grade_indexer,grade_encoder,   \n",
    "                            home_ownership_indexer,home_ownership_encoder,\n",
    "                            term_indexer,term_encoder,\n",
    "                           assembler,log_reg_loan])"
   ]
  },
  {
   "cell_type": "code",
   "execution_count": 21,
   "metadata": {},
   "outputs": [],
   "source": [
    "train_data, test_data = data1.randomSplit([0.7,0.3])"
   ]
  },
  {
   "cell_type": "code",
   "execution_count": 22,
   "metadata": {},
   "outputs": [],
   "source": [
    "fit_model = pipeline.fit(train_data)"
   ]
  },
  {
   "cell_type": "code",
   "execution_count": 23,
   "metadata": {},
   "outputs": [],
   "source": [
    "results = fit_model.transform(test_data)"
   ]
  },
  {
   "cell_type": "code",
   "execution_count": 24,
   "metadata": {},
   "outputs": [],
   "source": [
    "from pyspark.ml.evaluation import BinaryClassificationEvaluator"
   ]
  },
  {
   "cell_type": "code",
   "execution_count": 25,
   "metadata": {},
   "outputs": [],
   "source": [
    "my_eval = BinaryClassificationEvaluator(rawPredictionCol='prediction',\n",
    "                                       labelCol='loan_outcome')"
   ]
  },
  {
   "cell_type": "code",
   "execution_count": 26,
   "metadata": {},
   "outputs": [
    {
     "name": "stdout",
     "output_type": "stream",
     "text": [
      "+------------+----------+\n",
      "|loan_outcome|prediction|\n",
      "+------------+----------+\n",
      "|           0|       0.0|\n",
      "|           0|       0.0|\n",
      "|           0|       0.0|\n",
      "|           0|       0.0|\n",
      "|           0|       0.0|\n",
      "|           0|       0.0|\n",
      "|           0|       0.0|\n",
      "|           0|       0.0|\n",
      "|           0|       0.0|\n",
      "|           0|       0.0|\n",
      "|           0|       0.0|\n",
      "|           0|       0.0|\n",
      "|           0|       0.0|\n",
      "|           0|       0.0|\n",
      "|           0|       0.0|\n",
      "|           0|       0.0|\n",
      "|           0|       0.0|\n",
      "|           0|       0.0|\n",
      "|           0|       0.0|\n",
      "|           0|       0.0|\n",
      "+------------+----------+\n",
      "only showing top 20 rows\n",
      "\n"
     ]
    }
   ],
   "source": [
    "results.select('loan_outcome','prediction').show()"
   ]
  },
  {
   "cell_type": "code",
   "execution_count": 27,
   "metadata": {},
   "outputs": [],
   "source": [
    "AUC = my_eval.evaluate(results)"
   ]
  },
  {
   "cell_type": "code",
   "execution_count": 28,
   "metadata": {},
   "outputs": [
    {
     "data": {
      "text/plain": [
       "0.5131513358172877"
      ]
     },
     "execution_count": 28,
     "metadata": {},
     "output_type": "execute_result"
    }
   ],
   "source": [
    "AUC"
   ]
  },
  {
   "cell_type": "code",
   "execution_count": 29,
   "metadata": {},
   "outputs": [],
   "source": [
    "from pyspark.ml.evaluation import MulticlassClassificationEvaluator"
   ]
  },
  {
   "cell_type": "code",
   "execution_count": 30,
   "metadata": {},
   "outputs": [],
   "source": [
    "# Select (prediction, true label) and compute test error\n",
    "acc_evaluator = MulticlassClassificationEvaluator(labelCol=\"loan_outcome\", predictionCol=\"prediction\", metricName=\"accuracy\")"
   ]
  },
  {
   "cell_type": "code",
   "execution_count": 31,
   "metadata": {},
   "outputs": [],
   "source": [
    "precision_evaluator = MulticlassClassificationEvaluator(labelCol=\"loan_outcome\", predictionCol=\"prediction\", metricName=\"weightedPrecision\")"
   ]
  },
  {
   "cell_type": "code",
   "execution_count": 32,
   "metadata": {},
   "outputs": [],
   "source": [
    "recall_evaluator = MulticlassClassificationEvaluator(labelCol=\"loan_outcome\", predictionCol=\"prediction\", metricName=\"weightedRecall\")"
   ]
  },
  {
   "cell_type": "code",
   "execution_count": 33,
   "metadata": {},
   "outputs": [],
   "source": [
    "# Select (prediction, true label) and compute test error\n",
    "f1_evaluator = MulticlassClassificationEvaluator(labelCol=\"loan_outcome\", predictionCol=\"prediction\", metricName=\"f1\")"
   ]
  },
  {
   "cell_type": "code",
   "execution_count": 34,
   "metadata": {},
   "outputs": [],
   "source": [
    "results_acc = acc_evaluator.evaluate(results)\n",
    "results_f1 = f1_evaluator.evaluate(results)"
   ]
  },
  {
   "cell_type": "code",
   "execution_count": 35,
   "metadata": {},
   "outputs": [],
   "source": [
    "results_precision = precision_evaluator.evaluate(results)\n",
    "results_recall = recall_evaluator.evaluate(results)"
   ]
  },
  {
   "cell_type": "code",
   "execution_count": 36,
   "metadata": {},
   "outputs": [
    {
     "name": "stdout",
     "output_type": "stream",
     "text": [
      "Here are the results!\n",
      "--------------------------------------------------------------------------------\n",
      "A Logistic Regression Model had an accuracy of: 79.45%\n",
      "A Logistic Regression Model had an precision score of: 74.07%\n",
      "A Logistic Regression Model had an recall score of: 79.45%\n",
      "A Logistic Regression Model had an f1 score of: 71.58%\n"
     ]
    }
   ],
   "source": [
    "print(\"Here are the results!\")\n",
    "print('-'*80)\n",
    "print('A Logistic Regression Model had an accuracy of: {0:2.2f}%'.format(results_acc*100))\n",
    "print('A Logistic Regression Model had an precision score of: {0:2.2f}%'.format(results_precision*100))\n",
    "print('A Logistic Regression Model had an recall score of: {0:2.2f}%'.format(results_recall*100))\n",
    "print('A Logistic Regression Model had an f1 score of: {0:2.2f}%'.format(results_f1*100))"
   ]
  },
  {
   "cell_type": "code",
   "execution_count": 38,
   "metadata": {},
   "outputs": [
    {
     "name": "stdout",
     "output_type": "stream",
     "text": [
      "+------------+---------------+----------+---------+---------+-----+--------+--------+\n",
      "|loan_outcome|home_ownership2|annual_inc|     term|loan_amnt|grade|int_rate|purpose2|\n",
      "+------------+---------------+----------+---------+---------+-----+--------+--------+\n",
      "|           0|        Not OWN|   38500.0|36 months|     4500|    B|   11.31|debt_con|\n",
      "|           0|        Not OWN|   57000.0|60 months|    20000|    D|   17.97|debt_con|\n",
      "|           0|        Not OWN|   45000.0|36 months|     6600|    B|   11.31|debt_con|\n",
      "|           0|        Not OWN|   42000.0|36 months|     2500|    C|   13.56|   other|\n",
      "|           0|        Not OWN|   60000.0|36 months|     4000|    D|   17.97|   other|\n",
      "|           0|            OWN|   24000.0|36 months|     2700|    A|    8.19|debt_con|\n",
      "|           0|        Not OWN|   98000.0|36 months|     5000|    A|    7.56|debt_con|\n",
      "|           0|        Not OWN|   55000.0|36 months|    12950|    A|    7.56|debt_con|\n",
      "|           0|        Not OWN|   58000.0|60 months|    10450|    B|   12.98|debt_con|\n",
      "|           0|        Not OWN|   60000.0|60 months|    10000|    B|   12.98|   other|\n",
      "|           0|        Not OWN|   68000.0|36 months|    29050|    B|   10.33|   other|\n",
      "|           0|        Not OWN|   42140.0|36 months|     1000|    C|   13.56|   other|\n",
      "|           0|        Not OWN|  127300.0|36 months|     3500|    D|   18.94|   other|\n",
      "|           0|        Not OWN|  100000.0|36 months|    10000|    B|    11.8|debt_con|\n",
      "|           0|        Not OWN|   65000.0|36 months|    10000|    A|    8.19|debt_con|\n",
      "|           0|        Not OWN|   50000.0|36 months|     9500|    A|    8.19|debt_con|\n",
      "|           0|        Not OWN|   45000.0|36 months|    10000|    B|   10.72|debt_con|\n",
      "|           0|        Not OWN|   47000.0|36 months|     9000|    D|   18.94|   other|\n",
      "|           0|        Not OWN|  143600.0|36 months|    10000|    A|    8.81|debt_con|\n",
      "|           0|        Not OWN|   42000.0|36 months|     5000|    A|    8.81|debt_con|\n",
      "+------------+---------------+----------+---------+---------+-----+--------+--------+\n",
      "only showing top 20 rows\n",
      "\n",
      "root\n",
      " |-- loan_outcome: integer (nullable = true)\n",
      " |-- home_ownership2: string (nullable = true)\n",
      " |-- annual_inc: double (nullable = true)\n",
      " |-- term: string (nullable = true)\n",
      " |-- loan_amnt: integer (nullable = true)\n",
      " |-- grade: string (nullable = true)\n",
      " |-- int_rate: double (nullable = true)\n",
      " |-- purpose2: string (nullable = true)\n",
      "\n",
      "The results for Logistic Regression Model\n",
      "--------------------------------------------------------------------------------\n",
      "Accuracy: 79.41%\n",
      "Precision score: 74.18%\n",
      "Recall score: 79.41%\n",
      "F1 score: 71.45%\n",
      "Area Under the Curve: 51.27%\n"
     ]
    }
   ],
   "source": [
    "data1 = data.select('loan_outcome','home_ownership2','annual_inc','term','loan_amnt','grade','int_rate','purpose2' )\n",
    "data1.show()\n",
    "data1.printSchema()\n",
    "purpose2_indexer = StringIndexer(inputCol='purpose2',outputCol='purpose2Index')\n",
    "purpose2_encoder = OneHotEncoder(inputCol='purpose2Index',outputCol='purpose2Vec')\n",
    "\n",
    "grade_indexer = StringIndexer(inputCol='grade',outputCol='gradeIndex')\n",
    "grade_encoder = OneHotEncoder(inputCol='gradeIndex',outputCol='gradeVec')\n",
    "\n",
    "emp_length_indexer = StringIndexer(inputCol='emp_length',outputCol='emp_lengthIndex')\n",
    "emp_length_encoder = OneHotEncoder(inputCol='emp_lengthIndex',outputCol='emp_lengthVec')\n",
    "\n",
    "home_ownership_indexer = StringIndexer(inputCol='home_ownership2',outputCol='home_ownershipIndex')\n",
    "home_ownership_encoder = OneHotEncoder(inputCol='home_ownershipIndex',outputCol='home_ownershipVec')\n",
    "\n",
    "term_indexer = StringIndexer(inputCol='term',outputCol='termIndex')\n",
    "term_encoder = OneHotEncoder(inputCol='termIndex',outputCol='termVec')\n",
    "\n",
    "assembler = VectorAssembler(inputCols=['loan_amnt' , 'gradeVec' , 'home_ownershipVec' , 'annual_inc' , 'termVec','int_rate','purpose2Vec'],outputCol='features')\n",
    "log_reg_loan = LogisticRegression(featuresCol='features',labelCol='loan_outcome')\n",
    "pipeline = Pipeline(stages=[grade_indexer,grade_encoder,   \n",
    "                            home_ownership_indexer,home_ownership_encoder,\n",
    "                            term_indexer,term_encoder,\n",
    "                            purpose2_indexer,purpose2_encoder,\n",
    "                           assembler,log_reg_loan])\n",
    "\n",
    "train_data, test_data = data1.randomSplit([0.7,0.3])\n",
    "fit_model = pipeline.fit(train_data)\n",
    "results = fit_model.transform(test_data)\n",
    "\n",
    "my_eval = BinaryClassificationEvaluator(rawPredictionCol='prediction',\n",
    "                                       labelCol='loan_outcome')\n",
    "AUC = my_eval.evaluate(results)\n",
    "\n",
    "acc_evaluator = MulticlassClassificationEvaluator(labelCol=\"loan_outcome\", predictionCol=\"prediction\", metricName=\"accuracy\")\n",
    "precision_evaluator = MulticlassClassificationEvaluator(labelCol=\"loan_outcome\", predictionCol=\"prediction\", metricName=\"weightedPrecision\")\n",
    "recall_evaluator = MulticlassClassificationEvaluator(labelCol=\"loan_outcome\", predictionCol=\"prediction\", metricName=\"weightedRecall\")\n",
    "f1_evaluator = MulticlassClassificationEvaluator(labelCol=\"loan_outcome\", predictionCol=\"prediction\", metricName=\"f1\")\n",
    "\n",
    "results_acc = acc_evaluator.evaluate(results)\n",
    "results_f1 = f1_evaluator.evaluate(results)\n",
    "\n",
    "results_precision = precision_evaluator.evaluate(results)\n",
    "results_recall = recall_evaluator.evaluate(results)\n",
    "\n",
    "print(\"The results for Logistic Regression Model\")\n",
    "print('-'*80)\n",
    "print('Accuracy: {0:2.2f}%'.format(results_acc*100))\n",
    "print('Precision score: {0:2.2f}%'.format(results_precision*100))\n",
    "print('Recall score: {0:2.2f}%'.format(results_recall*100))\n",
    "print('F1 score: {0:2.2f}%'.format(results_f1*100))\n",
    "print('Area Under the Curve: {0:2.2f}%'.format(AUC*100))"
   ]
  },
  {
   "cell_type": "code",
   "execution_count": 40,
   "metadata": {},
   "outputs": [
    {
     "name": "stdout",
     "output_type": "stream",
     "text": [
      "+------------+---------------+----------+---------+---------+-----+--------+--------+-----------+\n",
      "|loan_outcome|home_ownership2|annual_inc|     term|loan_amnt|grade|int_rate|purpose2|tot_cur_bal|\n",
      "+------------+---------------+----------+---------+---------+-----+--------+--------+-----------+\n",
      "|           0|        Not OWN|   38500.0|36 months|     4500|    B|   11.31|debt_con|    29137.0|\n",
      "|           0|        Not OWN|   57000.0|60 months|    20000|    D|   17.97|debt_con|    33356.0|\n",
      "|           0|        Not OWN|   45000.0|36 months|     6600|    B|   11.31|debt_con|    26836.0|\n",
      "|           0|        Not OWN|   42000.0|36 months|     2500|    C|   13.56|   other|    18649.0|\n",
      "|           0|        Not OWN|   60000.0|36 months|     4000|    D|   17.97|   other|   106556.0|\n",
      "|           0|            OWN|   24000.0|36 months|     2700|    A|    8.19|debt_con|    75363.0|\n",
      "|           0|        Not OWN|   98000.0|36 months|     5000|    A|    7.56|debt_con|    50831.0|\n",
      "|           0|        Not OWN|   55000.0|36 months|    12950|    A|    7.56|debt_con|   229904.0|\n",
      "|           0|        Not OWN|   58000.0|60 months|    10450|    B|   12.98|debt_con|   197095.0|\n",
      "|           0|        Not OWN|   60000.0|60 months|    10000|    B|   12.98|   other|   157586.0|\n",
      "|           0|        Not OWN|   68000.0|36 months|    29050|    B|   10.33|   other|   227183.0|\n",
      "|           0|        Not OWN|   42140.0|36 months|     1000|    C|   13.56|   other|    43629.0|\n",
      "|           0|        Not OWN|  127300.0|36 months|     3500|    D|   18.94|   other|   239730.0|\n",
      "|           0|        Not OWN|  100000.0|36 months|    10000|    B|    11.8|debt_con|    23547.0|\n",
      "|           0|        Not OWN|   65000.0|36 months|    10000|    A|    8.19|debt_con|    36228.0|\n",
      "|           0|        Not OWN|   50000.0|36 months|     9500|    A|    8.19|debt_con|     9112.0|\n",
      "|           0|        Not OWN|   45000.0|36 months|    10000|    B|   10.72|debt_con|    15271.0|\n",
      "|           0|        Not OWN|   47000.0|36 months|     9000|    D|   18.94|   other|     9468.0|\n",
      "|           0|        Not OWN|  143600.0|36 months|    10000|    A|    8.81|debt_con|   257595.0|\n",
      "|           0|        Not OWN|   42000.0|36 months|     5000|    A|    8.81|debt_con|    17124.0|\n",
      "+------------+---------------+----------+---------+---------+-----+--------+--------+-----------+\n",
      "only showing top 20 rows\n",
      "\n",
      "root\n",
      " |-- loan_outcome: integer (nullable = true)\n",
      " |-- home_ownership2: string (nullable = true)\n",
      " |-- annual_inc: double (nullable = true)\n",
      " |-- term: string (nullable = true)\n",
      " |-- loan_amnt: integer (nullable = true)\n",
      " |-- grade: string (nullable = true)\n",
      " |-- int_rate: double (nullable = true)\n",
      " |-- purpose2: string (nullable = true)\n",
      " |-- tot_cur_bal: double (nullable = true)\n",
      "\n",
      "The results for Logistic Regression Model\n",
      "--------------------------------------------------------------------------------\n",
      "Accuracy: 79.49%\n",
      "Precision score: 74.00%\n",
      "Recall score: 79.49%\n",
      "F1 score: 71.83%\n",
      "Area Under the Curve: 51.50%\n"
     ]
    }
   ],
   "source": [
    "data1 = data.select('loan_outcome','home_ownership2','annual_inc','term','loan_amnt','grade','int_rate','purpose2','tot_cur_bal' )\n",
    "data1.show()\n",
    "data1.printSchema()\n",
    "purpose2_indexer = StringIndexer(inputCol='purpose2',outputCol='purpose2Index')\n",
    "purpose2_encoder = OneHotEncoder(inputCol='purpose2Index',outputCol='purpose2Vec')\n",
    "\n",
    "grade_indexer = StringIndexer(inputCol='grade',outputCol='gradeIndex')\n",
    "grade_encoder = OneHotEncoder(inputCol='gradeIndex',outputCol='gradeVec')\n",
    "\n",
    "emp_length_indexer = StringIndexer(inputCol='emp_length',outputCol='emp_lengthIndex')\n",
    "emp_length_encoder = OneHotEncoder(inputCol='emp_lengthIndex',outputCol='emp_lengthVec')\n",
    "\n",
    "home_ownership_indexer = StringIndexer(inputCol='home_ownership2',outputCol='home_ownershipIndex')\n",
    "home_ownership_encoder = OneHotEncoder(inputCol='home_ownershipIndex',outputCol='home_ownershipVec')\n",
    "\n",
    "term_indexer = StringIndexer(inputCol='term',outputCol='termIndex')\n",
    "term_encoder = OneHotEncoder(inputCol='termIndex',outputCol='termVec')\n",
    "\n",
    "assembler = VectorAssembler(inputCols=['loan_amnt' , 'gradeVec' , 'home_ownershipVec' , 'annual_inc' , 'termVec','int_rate','purpose2Vec','tot_cur_bal'],outputCol='features')\n",
    "log_reg_loan = LogisticRegression(featuresCol='features',labelCol='loan_outcome')\n",
    "pipeline = Pipeline(stages=[grade_indexer,grade_encoder,   \n",
    "                            home_ownership_indexer,home_ownership_encoder,\n",
    "                            term_indexer,term_encoder,\n",
    "                            purpose2_indexer,purpose2_encoder,\n",
    "                           assembler,log_reg_loan])\n",
    "\n",
    "train_data, test_data = data1.randomSplit([0.7,0.3])\n",
    "fit_model = pipeline.fit(train_data)\n",
    "results = fit_model.transform(test_data)\n",
    "\n",
    "my_eval = BinaryClassificationEvaluator(rawPredictionCol='prediction',\n",
    "                                       labelCol='loan_outcome')\n",
    "AUC = my_eval.evaluate(results)\n",
    "\n",
    "acc_evaluator = MulticlassClassificationEvaluator(labelCol=\"loan_outcome\", predictionCol=\"prediction\", metricName=\"accuracy\")\n",
    "precision_evaluator = MulticlassClassificationEvaluator(labelCol=\"loan_outcome\", predictionCol=\"prediction\", metricName=\"weightedPrecision\")\n",
    "recall_evaluator = MulticlassClassificationEvaluator(labelCol=\"loan_outcome\", predictionCol=\"prediction\", metricName=\"weightedRecall\")\n",
    "f1_evaluator = MulticlassClassificationEvaluator(labelCol=\"loan_outcome\", predictionCol=\"prediction\", metricName=\"f1\")\n",
    "\n",
    "results_acc = acc_evaluator.evaluate(results)\n",
    "results_f1 = f1_evaluator.evaluate(results)\n",
    "\n",
    "results_precision = precision_evaluator.evaluate(results)\n",
    "results_recall = recall_evaluator.evaluate(results)\n",
    "\n",
    "print(\"The results for Logistic Regression Model\")\n",
    "print('-'*80)\n",
    "print('Accuracy: {0:2.2f}%'.format(results_acc*100))\n",
    "print('Precision score: {0:2.2f}%'.format(results_precision*100))\n",
    "print('Recall score: {0:2.2f}%'.format(results_recall*100))\n",
    "print('F1 score: {0:2.2f}%'.format(results_f1*100))\n",
    "print('Area Under the Curve: {0:2.2f}%'.format(AUC*100))"
   ]
  },
  {
   "cell_type": "code",
   "execution_count": 41,
   "metadata": {},
   "outputs": [
    {
     "name": "stdout",
     "output_type": "stream",
     "text": [
      "+------------+---------------+----------+---------+---------+-----+--------+--------+-----------+\n",
      "|loan_outcome|home_ownership2|annual_inc|     term|loan_amnt|grade|int_rate|purpose2|avg_cur_bal|\n",
      "+------------+---------------+----------+---------+---------+-----+--------+--------+-----------+\n",
      "|           0|        Not OWN|   38500.0|36 months|     4500|    B|   11.31|debt_con|     2428.0|\n",
      "|           0|        Not OWN|   57000.0|60 months|    20000|    D|   17.97|debt_con|     3336.0|\n",
      "|           0|        Not OWN|   45000.0|36 months|     6600|    B|   11.31|debt_con|     4473.0|\n",
      "|           0|        Not OWN|   42000.0|36 months|     2500|    C|   13.56|   other|     6216.0|\n",
      "|           0|        Not OWN|   60000.0|36 months|     4000|    D|   17.97|   other|     9687.0|\n",
      "|           0|            OWN|   24000.0|36 months|     2700|    A|    8.19|debt_con|     3589.0|\n",
      "|           0|        Not OWN|   98000.0|36 months|     5000|    A|    7.56|debt_con|     8472.0|\n",
      "|           0|        Not OWN|   55000.0|36 months|    12950|    A|    7.56|debt_con|    15327.0|\n",
      "|           0|        Not OWN|   58000.0|60 months|    10450|    B|   12.98|debt_con|     9855.0|\n",
      "|           0|        Not OWN|   60000.0|60 months|    10000|    B|   12.98|   other|     6852.0|\n",
      "|           0|        Not OWN|   68000.0|36 months|    29050|    B|   10.33|   other|    13364.0|\n",
      "|           0|        Not OWN|   42140.0|36 months|     1000|    C|   13.56|   other|     6233.0|\n",
      "|           0|        Not OWN|  127300.0|36 months|     3500|    D|   18.94|   other|    29966.0|\n",
      "|           0|        Not OWN|  100000.0|36 months|    10000|    B|    11.8|debt_con|     2616.0|\n",
      "|           0|        Not OWN|   65000.0|36 months|    10000|    A|    8.19|debt_con|     5175.0|\n",
      "|           0|        Not OWN|   50000.0|36 months|     9500|    A|    8.19|debt_con|     1302.0|\n",
      "|           0|        Not OWN|   45000.0|36 months|    10000|    B|   10.72|debt_con|     1175.0|\n",
      "|           0|        Not OWN|   47000.0|36 months|     9000|    D|   18.94|   other|      789.0|\n",
      "|           0|        Not OWN|  143600.0|36 months|    10000|    A|    8.81|debt_con|    25760.0|\n",
      "|           0|        Not OWN|   42000.0|36 months|     5000|    A|    8.81|debt_con|     5708.0|\n",
      "+------------+---------------+----------+---------+---------+-----+--------+--------+-----------+\n",
      "only showing top 20 rows\n",
      "\n",
      "root\n",
      " |-- loan_outcome: integer (nullable = true)\n",
      " |-- home_ownership2: string (nullable = true)\n",
      " |-- annual_inc: double (nullable = true)\n",
      " |-- term: string (nullable = true)\n",
      " |-- loan_amnt: integer (nullable = true)\n",
      " |-- grade: string (nullable = true)\n",
      " |-- int_rate: double (nullable = true)\n",
      " |-- purpose2: string (nullable = true)\n",
      " |-- avg_cur_bal: double (nullable = true)\n",
      "\n",
      "The results for Logistic Regression Model\n",
      "--------------------------------------------------------------------------------\n",
      "Accuracy: 79.51%\n",
      "Precision score: 74.23%\n",
      "Recall score: 79.51%\n",
      "F1 score: 71.91%\n",
      "Area Under the Curve: 51.63%\n"
     ]
    }
   ],
   "source": [
    "data1 = data.select('loan_outcome','home_ownership2','annual_inc','term','loan_amnt','grade','int_rate','purpose2','avg_cur_bal' )\n",
    "data1.show()\n",
    "data1.printSchema()\n",
    "purpose2_indexer = StringIndexer(inputCol='purpose2',outputCol='purpose2Index')\n",
    "purpose2_encoder = OneHotEncoder(inputCol='purpose2Index',outputCol='purpose2Vec')\n",
    "\n",
    "grade_indexer = StringIndexer(inputCol='grade',outputCol='gradeIndex')\n",
    "grade_encoder = OneHotEncoder(inputCol='gradeIndex',outputCol='gradeVec')\n",
    "\n",
    "emp_length_indexer = StringIndexer(inputCol='emp_length',outputCol='emp_lengthIndex')\n",
    "emp_length_encoder = OneHotEncoder(inputCol='emp_lengthIndex',outputCol='emp_lengthVec')\n",
    "\n",
    "home_ownership_indexer = StringIndexer(inputCol='home_ownership2',outputCol='home_ownershipIndex')\n",
    "home_ownership_encoder = OneHotEncoder(inputCol='home_ownershipIndex',outputCol='home_ownershipVec')\n",
    "\n",
    "term_indexer = StringIndexer(inputCol='term',outputCol='termIndex')\n",
    "term_encoder = OneHotEncoder(inputCol='termIndex',outputCol='termVec')\n",
    "\n",
    "assembler = VectorAssembler(inputCols=['loan_amnt' , 'gradeVec' , 'home_ownershipVec' , 'annual_inc' , 'termVec','int_rate','purpose2Vec','avg_cur_bal'],outputCol='features')\n",
    "log_reg_loan = LogisticRegression(featuresCol='features',labelCol='loan_outcome')\n",
    "pipeline = Pipeline(stages=[grade_indexer,grade_encoder,   \n",
    "                            home_ownership_indexer,home_ownership_encoder,\n",
    "                            term_indexer,term_encoder,\n",
    "                            purpose2_indexer,purpose2_encoder,\n",
    "                           assembler,log_reg_loan])\n",
    "\n",
    "train_data, test_data = data1.randomSplit([0.7,0.3])\n",
    "fit_model = pipeline.fit(train_data)\n",
    "results = fit_model.transform(test_data)\n",
    "\n",
    "my_eval = BinaryClassificationEvaluator(rawPredictionCol='prediction',\n",
    "                                       labelCol='loan_outcome')\n",
    "AUC = my_eval.evaluate(results)\n",
    "\n",
    "acc_evaluator = MulticlassClassificationEvaluator(labelCol=\"loan_outcome\", predictionCol=\"prediction\", metricName=\"accuracy\")\n",
    "precision_evaluator = MulticlassClassificationEvaluator(labelCol=\"loan_outcome\", predictionCol=\"prediction\", metricName=\"weightedPrecision\")\n",
    "recall_evaluator = MulticlassClassificationEvaluator(labelCol=\"loan_outcome\", predictionCol=\"prediction\", metricName=\"weightedRecall\")\n",
    "f1_evaluator = MulticlassClassificationEvaluator(labelCol=\"loan_outcome\", predictionCol=\"prediction\", metricName=\"f1\")\n",
    "\n",
    "results_acc = acc_evaluator.evaluate(results)\n",
    "results_f1 = f1_evaluator.evaluate(results)\n",
    "\n",
    "results_precision = precision_evaluator.evaluate(results)\n",
    "results_recall = recall_evaluator.evaluate(results)\n",
    "\n",
    "print(\"The results for Logistic Regression Model\")\n",
    "print('-'*80)\n",
    "print('Accuracy: {0:2.2f}%'.format(results_acc*100))\n",
    "print('Precision score: {0:2.2f}%'.format(results_precision*100))\n",
    "print('Recall score: {0:2.2f}%'.format(results_recall*100))\n",
    "print('F1 score: {0:2.2f}%'.format(results_f1*100))\n",
    "print('Area Under the Curve: {0:2.2f}%'.format(AUC*100))"
   ]
  },
  {
   "cell_type": "code",
   "execution_count": 42,
   "metadata": {},
   "outputs": [
    {
     "name": "stdout",
     "output_type": "stream",
     "text": [
      "+------------+---------------+----------+---------+---------+-----+--------+--------+-----------+-----+\n",
      "|loan_outcome|home_ownership2|annual_inc|     term|loan_amnt|grade|int_rate|purpose2|avg_cur_bal|  dti|\n",
      "+------------+---------------+----------+---------+---------+-----+--------+--------+-----------+-----+\n",
      "|           0|        Not OWN|   38500.0|36 months|     4500|    B|   11.31|debt_con|     2428.0| 4.64|\n",
      "|           0|        Not OWN|   57000.0|60 months|    20000|    D|   17.97|debt_con|     3336.0|22.18|\n",
      "|           0|        Not OWN|   45000.0|36 months|     6600|    B|   11.31|debt_con|     4473.0|16.21|\n",
      "|           0|        Not OWN|   42000.0|36 months|     2500|    C|   13.56|   other|     6216.0|15.09|\n",
      "|           0|        Not OWN|   60000.0|36 months|     4000|    D|   17.97|   other|     9687.0| 19.1|\n",
      "|           0|            OWN|   24000.0|36 months|     2700|    A|    8.19|debt_con|     3589.0|24.95|\n",
      "|           0|        Not OWN|   98000.0|36 months|     5000|    A|    7.56|debt_con|     8472.0|14.78|\n",
      "|           0|        Not OWN|   55000.0|36 months|    12950|    A|    7.56|debt_con|    15327.0|19.88|\n",
      "|           0|        Not OWN|   58000.0|60 months|    10450|    B|   12.98|debt_con|     9855.0|21.17|\n",
      "|           0|        Not OWN|   60000.0|60 months|    10000|    B|   12.98|   other|     6852.0|12.25|\n",
      "|           0|        Not OWN|   68000.0|36 months|    29050|    B|   10.33|   other|    13364.0|23.65|\n",
      "|           0|        Not OWN|   42140.0|36 months|     1000|    C|   13.56|   other|     6233.0|24.18|\n",
      "|           0|        Not OWN|  127300.0|36 months|     3500|    D|   18.94|   other|    29966.0|17.91|\n",
      "|           0|        Not OWN|  100000.0|36 months|    10000|    B|    11.8|debt_con|     2616.0| 10.6|\n",
      "|           0|        Not OWN|   65000.0|36 months|    10000|    A|    8.19|debt_con|     5175.0|19.87|\n",
      "|           0|        Not OWN|   50000.0|36 months|     9500|    A|    8.19|debt_con|     1302.0|11.43|\n",
      "|           0|        Not OWN|   45000.0|36 months|    10000|    B|   10.72|debt_con|     1175.0|14.96|\n",
      "|           0|        Not OWN|   47000.0|36 months|     9000|    D|   18.94|   other|      789.0|15.34|\n",
      "|           0|        Not OWN|  143600.0|36 months|    10000|    A|    8.81|debt_con|    25760.0|17.17|\n",
      "|           0|        Not OWN|   42000.0|36 months|     5000|    A|    8.81|debt_con|     5708.0|14.17|\n",
      "+------------+---------------+----------+---------+---------+-----+--------+--------+-----------+-----+\n",
      "only showing top 20 rows\n",
      "\n",
      "root\n",
      " |-- loan_outcome: integer (nullable = true)\n",
      " |-- home_ownership2: string (nullable = true)\n",
      " |-- annual_inc: double (nullable = true)\n",
      " |-- term: string (nullable = true)\n",
      " |-- loan_amnt: integer (nullable = true)\n",
      " |-- grade: string (nullable = true)\n",
      " |-- int_rate: double (nullable = true)\n",
      " |-- purpose2: string (nullable = true)\n",
      " |-- avg_cur_bal: double (nullable = true)\n",
      " |-- dti: double (nullable = true)\n",
      "\n",
      "The results for Logistic Regression Model\n",
      "--------------------------------------------------------------------------------\n",
      "Accuracy: 79.53%\n",
      "Precision score: 74.61%\n",
      "Recall score: 79.53%\n",
      "F1 score: 72.21%\n",
      "Area Under the Curve: 52.06%\n"
     ]
    }
   ],
   "source": [
    "data1 = data.select('loan_outcome','home_ownership2','annual_inc','term','loan_amnt','grade','int_rate','purpose2','avg_cur_bal', 'dti' )\n",
    "data1.show()\n",
    "data1.printSchema()\n",
    "purpose2_indexer = StringIndexer(inputCol='purpose2',outputCol='purpose2Index')\n",
    "purpose2_encoder = OneHotEncoder(inputCol='purpose2Index',outputCol='purpose2Vec')\n",
    "\n",
    "grade_indexer = StringIndexer(inputCol='grade',outputCol='gradeIndex')\n",
    "grade_encoder = OneHotEncoder(inputCol='gradeIndex',outputCol='gradeVec')\n",
    "\n",
    "emp_length_indexer = StringIndexer(inputCol='emp_length',outputCol='emp_lengthIndex')\n",
    "emp_length_encoder = OneHotEncoder(inputCol='emp_lengthIndex',outputCol='emp_lengthVec')\n",
    "\n",
    "home_ownership_indexer = StringIndexer(inputCol='home_ownership2',outputCol='home_ownershipIndex')\n",
    "home_ownership_encoder = OneHotEncoder(inputCol='home_ownershipIndex',outputCol='home_ownershipVec')\n",
    "\n",
    "term_indexer = StringIndexer(inputCol='term',outputCol='termIndex')\n",
    "term_encoder = OneHotEncoder(inputCol='termIndex',outputCol='termVec')\n",
    "\n",
    "assembler = VectorAssembler(inputCols=['loan_amnt' , 'gradeVec' , 'home_ownershipVec' , 'annual_inc' , 'termVec','int_rate','purpose2Vec','avg_cur_bal','dti'],outputCol='features')\n",
    "log_reg_loan = LogisticRegression(featuresCol='features',labelCol='loan_outcome')\n",
    "pipeline = Pipeline(stages=[grade_indexer,grade_encoder,   \n",
    "                            home_ownership_indexer,home_ownership_encoder,\n",
    "                            term_indexer,term_encoder,\n",
    "                            purpose2_indexer,purpose2_encoder,\n",
    "                           assembler,log_reg_loan])\n",
    "\n",
    "train_data, test_data = data1.randomSplit([0.7,0.3])\n",
    "fit_model = pipeline.fit(train_data)\n",
    "results = fit_model.transform(test_data)\n",
    "\n",
    "my_eval = BinaryClassificationEvaluator(rawPredictionCol='prediction',\n",
    "                                       labelCol='loan_outcome')\n",
    "AUC = my_eval.evaluate(results)\n",
    "\n",
    "acc_evaluator = MulticlassClassificationEvaluator(labelCol=\"loan_outcome\", predictionCol=\"prediction\", metricName=\"accuracy\")\n",
    "precision_evaluator = MulticlassClassificationEvaluator(labelCol=\"loan_outcome\", predictionCol=\"prediction\", metricName=\"weightedPrecision\")\n",
    "recall_evaluator = MulticlassClassificationEvaluator(labelCol=\"loan_outcome\", predictionCol=\"prediction\", metricName=\"weightedRecall\")\n",
    "f1_evaluator = MulticlassClassificationEvaluator(labelCol=\"loan_outcome\", predictionCol=\"prediction\", metricName=\"f1\")\n",
    "\n",
    "results_acc = acc_evaluator.evaluate(results)\n",
    "results_f1 = f1_evaluator.evaluate(results)\n",
    "\n",
    "results_precision = precision_evaluator.evaluate(results)\n",
    "results_recall = recall_evaluator.evaluate(results)\n",
    "\n",
    "print(\"The results for Logistic Regression Model\")\n",
    "print('-'*80)\n",
    "print('Accuracy: {0:2.2f}%'.format(results_acc*100))\n",
    "print('Precision score: {0:2.2f}%'.format(results_precision*100))\n",
    "print('Recall score: {0:2.2f}%'.format(results_recall*100))\n",
    "print('F1 score: {0:2.2f}%'.format(results_f1*100))\n",
    "print('Area Under the Curve: {0:2.2f}%'.format(AUC*100))"
   ]
  },
  {
   "cell_type": "code",
   "execution_count": 45,
   "metadata": {},
   "outputs": [
    {
     "name": "stdout",
     "output_type": "stream",
     "text": [
      "+------------+---------------+----------+---------+---------+-----+--------+--------+-----------+-----+----------+\n",
      "|loan_outcome|home_ownership2|annual_inc|     term|loan_amnt|grade|int_rate|purpose2|avg_cur_bal|  dti|emp_length|\n",
      "+------------+---------------+----------+---------+---------+-----+--------+--------+-----------+-----+----------+\n",
      "|           0|        Not OWN|   38500.0|36 months|     4500|    B|   11.31|debt_con|     2428.0| 4.64| 10+ years|\n",
      "|           0|        Not OWN|   57000.0|60 months|    20000|    D|   17.97|debt_con|     3336.0|22.18|   4 years|\n",
      "|           0|        Not OWN|   45000.0|36 months|     6600|    B|   11.31|debt_con|     4473.0|16.21| 10+ years|\n",
      "|           0|        Not OWN|   42000.0|36 months|     2500|    C|   13.56|   other|     6216.0|15.09|   5 years|\n",
      "|           0|        Not OWN|   60000.0|36 months|     4000|    D|   17.97|   other|     9687.0| 19.1|   5 years|\n",
      "|           0|            OWN|   24000.0|36 months|     2700|    A|    8.19|debt_con|     3589.0|24.95|   4 years|\n",
      "|           0|        Not OWN|   98000.0|36 months|     5000|    A|    7.56|debt_con|     8472.0|14.78|   5 years|\n",
      "|           0|        Not OWN|   55000.0|36 months|    12950|    A|    7.56|debt_con|    15327.0|19.88| 10+ years|\n",
      "|           0|        Not OWN|   58000.0|60 months|    10450|    B|   12.98|debt_con|     9855.0|21.17| 10+ years|\n",
      "|           0|        Not OWN|   60000.0|60 months|    10000|    B|   12.98|   other|     6852.0|12.25|    1 year|\n",
      "|           0|        Not OWN|   68000.0|36 months|    29050|    B|   10.33|   other|    13364.0|23.65|  < 1 year|\n",
      "|           0|        Not OWN|   42140.0|36 months|     1000|    C|   13.56|   other|     6233.0|24.18|    1 year|\n",
      "|           0|        Not OWN|  127300.0|36 months|     3500|    D|   18.94|   other|    29966.0|17.91| 10+ years|\n",
      "|           0|        Not OWN|  100000.0|36 months|    10000|    B|    11.8|debt_con|     2616.0| 10.6|    1 year|\n",
      "|           0|        Not OWN|   65000.0|36 months|    10000|    A|    8.19|debt_con|     5175.0|19.87|   8 years|\n",
      "|           0|        Not OWN|   50000.0|36 months|     9500|    A|    8.19|debt_con|     1302.0|11.43|   5 years|\n",
      "|           0|        Not OWN|   45000.0|36 months|    10000|    B|   10.72|debt_con|     1175.0|14.96|   5 years|\n",
      "|           0|        Not OWN|   47000.0|36 months|     9000|    D|   18.94|   other|      789.0|15.34|   5 years|\n",
      "|           0|        Not OWN|  143600.0|36 months|    10000|    A|    8.81|debt_con|    25760.0|17.17|  < 1 year|\n",
      "|           0|        Not OWN|   42000.0|36 months|     5000|    A|    8.81|debt_con|     5708.0|14.17| 10+ years|\n",
      "+------------+---------------+----------+---------+---------+-----+--------+--------+-----------+-----+----------+\n",
      "only showing top 20 rows\n",
      "\n",
      "root\n",
      " |-- loan_outcome: integer (nullable = true)\n",
      " |-- home_ownership2: string (nullable = true)\n",
      " |-- annual_inc: double (nullable = true)\n",
      " |-- term: string (nullable = true)\n",
      " |-- loan_amnt: integer (nullable = true)\n",
      " |-- grade: string (nullable = true)\n",
      " |-- int_rate: double (nullable = true)\n",
      " |-- purpose2: string (nullable = true)\n",
      " |-- avg_cur_bal: double (nullable = true)\n",
      " |-- dti: double (nullable = true)\n",
      " |-- emp_length: string (nullable = true)\n",
      "\n",
      "The results for Logistic Regression Model\n",
      "--------------------------------------------------------------------------------\n",
      "Accuracy: 79.58%\n",
      "Precision score: 74.63%\n",
      "Recall score: 79.58%\n",
      "F1 score: 72.26%\n",
      "Area Under the Curve: 52.03%\n"
     ]
    }
   ],
   "source": [
    "data1 = data.select('loan_outcome','home_ownership2','annual_inc','term','loan_amnt','grade','int_rate','purpose2','avg_cur_bal', 'dti' ,'emp_length')\n",
    "data1.show()\n",
    "data1.printSchema()\n",
    "purpose2_indexer = StringIndexer(inputCol='purpose2',outputCol='purpose2Index')\n",
    "purpose2_encoder = OneHotEncoder(inputCol='purpose2Index',outputCol='purpose2Vec')\n",
    "\n",
    "grade_indexer = StringIndexer(inputCol='grade',outputCol='gradeIndex')\n",
    "grade_encoder = OneHotEncoder(inputCol='gradeIndex',outputCol='gradeVec')\n",
    "\n",
    "emp_length_indexer = StringIndexer(inputCol='emp_length',outputCol='emp_lengthIndex')\n",
    "emp_length_encoder = OneHotEncoder(inputCol='emp_lengthIndex',outputCol='emp_lengthVec')\n",
    "\n",
    "home_ownership_indexer = StringIndexer(inputCol='home_ownership2',outputCol='home_ownershipIndex')\n",
    "home_ownership_encoder = OneHotEncoder(inputCol='home_ownershipIndex',outputCol='home_ownershipVec')\n",
    "\n",
    "term_indexer = StringIndexer(inputCol='term',outputCol='termIndex')\n",
    "term_encoder = OneHotEncoder(inputCol='termIndex',outputCol='termVec')\n",
    "\n",
    "assembler = VectorAssembler(inputCols=['loan_amnt' , 'gradeVec' , 'home_ownershipVec' , 'annual_inc' , 'termVec','int_rate','purpose2Vec','avg_cur_bal','dti','emp_lengthVec'],outputCol='features')\n",
    "log_reg_loan = LogisticRegression(featuresCol='features',labelCol='loan_outcome')\n",
    "pipeline = Pipeline(stages=[grade_indexer,grade_encoder,   \n",
    "                            home_ownership_indexer,home_ownership_encoder,\n",
    "                            term_indexer,term_encoder,\n",
    "                            purpose2_indexer,purpose2_encoder,\n",
    "                            emp_length_indexer,emp_length_encoder,\n",
    "                           assembler,log_reg_loan])\n",
    "\n",
    "train_data, test_data = data1.randomSplit([0.7,0.3])\n",
    "fit_model = pipeline.fit(train_data)\n",
    "results = fit_model.transform(test_data)\n",
    "\n",
    "my_eval = BinaryClassificationEvaluator(rawPredictionCol='prediction',\n",
    "                                       labelCol='loan_outcome')\n",
    "AUC = my_eval.evaluate(results)\n",
    "\n",
    "acc_evaluator = MulticlassClassificationEvaluator(labelCol=\"loan_outcome\", predictionCol=\"prediction\", metricName=\"accuracy\")\n",
    "precision_evaluator = MulticlassClassificationEvaluator(labelCol=\"loan_outcome\", predictionCol=\"prediction\", metricName=\"weightedPrecision\")\n",
    "recall_evaluator = MulticlassClassificationEvaluator(labelCol=\"loan_outcome\", predictionCol=\"prediction\", metricName=\"weightedRecall\")\n",
    "f1_evaluator = MulticlassClassificationEvaluator(labelCol=\"loan_outcome\", predictionCol=\"prediction\", metricName=\"f1\")\n",
    "\n",
    "results_acc = acc_evaluator.evaluate(results)\n",
    "results_f1 = f1_evaluator.evaluate(results)\n",
    "\n",
    "results_precision = precision_evaluator.evaluate(results)\n",
    "results_recall = recall_evaluator.evaluate(results)\n",
    "\n",
    "print(\"The results for Logistic Regression Model\")\n",
    "print('-'*80)\n",
    "print('Accuracy: {0:2.2f}%'.format(results_acc*100))\n",
    "print('Precision score: {0:2.2f}%'.format(results_precision*100))\n",
    "print('Recall score: {0:2.2f}%'.format(results_recall*100))\n",
    "print('F1 score: {0:2.2f}%'.format(results_f1*100))\n",
    "print('Area Under the Curve: {0:2.2f}%'.format(AUC*100))"
   ]
  },
  {
   "cell_type": "code",
   "execution_count": 55,
   "metadata": {},
   "outputs": [
    {
     "ename": "SyntaxError",
     "evalue": "invalid syntax (<ipython-input-55-cb2884c51a39>, line 13)",
     "output_type": "error",
     "traceback": [
      "\u001b[0;36m  File \u001b[0;32m\"<ipython-input-55-cb2884c51a39>\"\u001b[0;36m, line \u001b[0;32m13\u001b[0m\n\u001b[0;31m    df = sqlContext.createDataFrame(,[\"prediction\", \"loan_outcome\"])\u001b[0m\n\u001b[0m                                    ^\u001b[0m\n\u001b[0;31mSyntaxError\u001b[0m\u001b[0;31m:\u001b[0m invalid syntax\n"
     ]
    }
   ],
   "source": [
    "rdd = sc.parallelize(\n",
    "    [\n",
    "        (0., 1.), \n",
    "        (0., 0.), \n",
    "        (0., 0.), \n",
    "        (1., 1.), \n",
    "        (1.,0.), \n",
    "        (1.,0.),\n",
    "        (1.,1.),\n",
    "        (1.,1.)\n",
    "    ]\n",
    ")\n",
    "df = sqlContext.createDataFrame(,[\"prediction\", \"loan_outcome\"])\n",
    "df.show()\n"
   ]
  },
  {
   "cell_type": "code",
   "execution_count": 46,
   "metadata": {},
   "outputs": [],
   "source": [
    "from pyspark.ml.linalg import Vectors\n",
    "from pyspark.ml.feature import VectorAssembler\n",
    "from pyspark.ml.classification import DecisionTreeClassifier,GBTClassifier,RandomForestClassifier\n",
    "from pyspark.ml import Pipeline"
   ]
  },
  {
   "cell_type": "code",
   "execution_count": 47,
   "metadata": {},
   "outputs": [
    {
     "name": "stdout",
     "output_type": "stream",
     "text": [
      "+------------+---------------+----------+---------+---------+-----+--------+--------+-----------+-----+\n",
      "|loan_outcome|home_ownership2|annual_inc|     term|loan_amnt|grade|int_rate|purpose2|avg_cur_bal|  dti|\n",
      "+------------+---------------+----------+---------+---------+-----+--------+--------+-----------+-----+\n",
      "|           0|        Not OWN|   38500.0|36 months|     4500|    B|   11.31|debt_con|     2428.0| 4.64|\n",
      "|           0|        Not OWN|   57000.0|60 months|    20000|    D|   17.97|debt_con|     3336.0|22.18|\n",
      "|           0|        Not OWN|   45000.0|36 months|     6600|    B|   11.31|debt_con|     4473.0|16.21|\n",
      "|           0|        Not OWN|   42000.0|36 months|     2500|    C|   13.56|   other|     6216.0|15.09|\n",
      "|           0|        Not OWN|   60000.0|36 months|     4000|    D|   17.97|   other|     9687.0| 19.1|\n",
      "|           0|            OWN|   24000.0|36 months|     2700|    A|    8.19|debt_con|     3589.0|24.95|\n",
      "|           0|        Not OWN|   98000.0|36 months|     5000|    A|    7.56|debt_con|     8472.0|14.78|\n",
      "|           0|        Not OWN|   55000.0|36 months|    12950|    A|    7.56|debt_con|    15327.0|19.88|\n",
      "|           0|        Not OWN|   58000.0|60 months|    10450|    B|   12.98|debt_con|     9855.0|21.17|\n",
      "|           0|        Not OWN|   60000.0|60 months|    10000|    B|   12.98|   other|     6852.0|12.25|\n",
      "|           0|        Not OWN|   68000.0|36 months|    29050|    B|   10.33|   other|    13364.0|23.65|\n",
      "|           0|        Not OWN|   42140.0|36 months|     1000|    C|   13.56|   other|     6233.0|24.18|\n",
      "|           0|        Not OWN|  127300.0|36 months|     3500|    D|   18.94|   other|    29966.0|17.91|\n",
      "|           0|        Not OWN|  100000.0|36 months|    10000|    B|    11.8|debt_con|     2616.0| 10.6|\n",
      "|           0|        Not OWN|   65000.0|36 months|    10000|    A|    8.19|debt_con|     5175.0|19.87|\n",
      "|           0|        Not OWN|   50000.0|36 months|     9500|    A|    8.19|debt_con|     1302.0|11.43|\n",
      "|           0|        Not OWN|   45000.0|36 months|    10000|    B|   10.72|debt_con|     1175.0|14.96|\n",
      "|           0|        Not OWN|   47000.0|36 months|     9000|    D|   18.94|   other|      789.0|15.34|\n",
      "|           0|        Not OWN|  143600.0|36 months|    10000|    A|    8.81|debt_con|    25760.0|17.17|\n",
      "|           0|        Not OWN|   42000.0|36 months|     5000|    A|    8.81|debt_con|     5708.0|14.17|\n",
      "+------------+---------------+----------+---------+---------+-----+--------+--------+-----------+-----+\n",
      "only showing top 20 rows\n",
      "\n",
      "root\n",
      " |-- loan_outcome: integer (nullable = true)\n",
      " |-- home_ownership2: string (nullable = true)\n",
      " |-- annual_inc: double (nullable = true)\n",
      " |-- term: string (nullable = true)\n",
      " |-- loan_amnt: integer (nullable = true)\n",
      " |-- grade: string (nullable = true)\n",
      " |-- int_rate: double (nullable = true)\n",
      " |-- purpose2: string (nullable = true)\n",
      " |-- avg_cur_bal: double (nullable = true)\n",
      " |-- dti: double (nullable = true)\n",
      "\n",
      "The results for Decision Tree Model\n",
      "--------------------------------------------------------------------------------\n",
      "Accuracy: 79.50%\n",
      "Precision score: 74.36%\n",
      "Recall score: 79.50%\n",
      "F1 score: 72.83%\n",
      "Area Under the Curve: 52.03%\n"
     ]
    }
   ],
   "source": [
    "data1 = data.select('loan_outcome','home_ownership2','annual_inc','term','loan_amnt','grade','int_rate','purpose2','avg_cur_bal', 'dti' )\n",
    "data1.show()\n",
    "data1.printSchema()\n",
    "purpose2_indexer = StringIndexer(inputCol='purpose2',outputCol='purpose2Index')\n",
    "purpose2_encoder = OneHotEncoder(inputCol='purpose2Index',outputCol='purpose2Vec')\n",
    "\n",
    "grade_indexer = StringIndexer(inputCol='grade',outputCol='gradeIndex')\n",
    "grade_encoder = OneHotEncoder(inputCol='gradeIndex',outputCol='gradeVec')\n",
    "\n",
    "emp_length_indexer = StringIndexer(inputCol='emp_length',outputCol='emp_lengthIndex')\n",
    "emp_length_encoder = OneHotEncoder(inputCol='emp_lengthIndex',outputCol='emp_lengthVec')\n",
    "\n",
    "home_ownership_indexer = StringIndexer(inputCol='home_ownership2',outputCol='home_ownershipIndex')\n",
    "home_ownership_encoder = OneHotEncoder(inputCol='home_ownershipIndex',outputCol='home_ownershipVec')\n",
    "\n",
    "term_indexer = StringIndexer(inputCol='term',outputCol='termIndex')\n",
    "term_encoder = OneHotEncoder(inputCol='termIndex',outputCol='termVec')\n",
    "\n",
    "assembler = VectorAssembler(inputCols=['loan_amnt' , 'gradeVec' , 'home_ownershipVec' , 'annual_inc' , 'termVec','int_rate','purpose2Vec','avg_cur_bal','dti'],outputCol='features')\n",
    "#log_reg_loan = LogisticRegression(featuresCol='features',labelCol='loan_outcome')\n",
    "# Use mostly defaults to make this comparison \"fair\"\n",
    "\n"
   ]
  },
  {
   "cell_type": "code",
   "execution_count": 60,
   "metadata": {},
   "outputs": [
    {
     "name": "stdout",
     "output_type": "stream",
     "text": [
      "The results for Decision Tree Model\n",
      "--------------------------------------------------------------------------------\n",
      "Accuracy: 79.48%\n",
      "Precision score: 74.33%\n",
      "Recall score: 79.48%\n",
      "F1 score: 73.09%\n",
      "Area Under the Curve: 53.07%\n"
     ]
    }
   ],
   "source": [
    "dtc = DecisionTreeClassifier(labelCol='loan_outcome',featuresCol='features')\n",
    "#rfc = RandomForestClassifier(labelCol='loan_outcome',featuresCol='features')\n",
    "#gbt = GBTClassifier(labelCol='loan_outcome',featuresCol='features')\n",
    "\n",
    "pipeline_dtc = Pipeline(stages=[grade_indexer,grade_encoder,   \n",
    "                            home_ownership_indexer,home_ownership_encoder,\n",
    "                            term_indexer,term_encoder,\n",
    "                            purpose2_indexer,purpose2_encoder,\n",
    "                           assembler,dtc])\n",
    "'''\n",
    "pipeline_rfc = Pipeline(stages=[grade_indexer,grade_encoder,   \n",
    "                            home_ownership_indexer,home_ownership_encoder,\n",
    "                            term_indexer,term_encoder,\n",
    "                            purpose2_indexer,purpose2_encoder,\n",
    "                           assembler,rfc])\n",
    "\n",
    "pipeline_gbt = Pipeline(stages=[grade_indexer,grade_encoder,   \n",
    "                            home_ownership_indexer,home_ownership_encoder,\n",
    "                            term_indexer,term_encoder,\n",
    "                            purpose2_indexer,purpose2_encoder,\n",
    "                           assembler,gbt])'''\n",
    "\n",
    "train_data, test_data = data1.randomSplit([0.7,0.3])\n",
    "\n",
    "# Train the models (its three models, so it might take some time)\n",
    "dtc_model = pipeline_dtc.fit(train_data)\n",
    "#rfc_model = pipeline_rfc.fit(train_data)\n",
    "#gbt_model = pipeline_gbt.fit(train_data)\n",
    "\n",
    "dtc_predictions = dtc_model.transform(test_data)\n",
    "#rfc_predictions = rfc_model.transform(test_data)\n",
    "#gbt_predictions = gbt_model.transform(test_data)\n",
    "\n",
    "\n",
    "\n",
    "\n",
    "\n",
    "#fit_model = pipeline.fit(train_data)\n",
    "#results = fit_model.transform(test_data)\n",
    "\n",
    "my_eval = BinaryClassificationEvaluator(rawPredictionCol='prediction',\n",
    "                                       labelCol='loan_outcome')\n",
    "AUC1 = my_eval.evaluate(dtc_predictions)\n",
    "#AUC2 = my_eval.evaluate(rfc_predictions)\n",
    "#AUC3 = my_eval.evaluate(gbt_predictions)\n",
    "\n",
    "acc_evaluator = MulticlassClassificationEvaluator(labelCol=\"loan_outcome\", predictionCol=\"prediction\", metricName=\"accuracy\")\n",
    "precision_evaluator = MulticlassClassificationEvaluator(labelCol=\"loan_outcome\", predictionCol=\"prediction\", metricName=\"weightedPrecision\")\n",
    "recall_evaluator = MulticlassClassificationEvaluator(labelCol=\"loan_outcome\", predictionCol=\"prediction\", metricName=\"weightedRecall\")\n",
    "f1_evaluator = MulticlassClassificationEvaluator(labelCol=\"loan_outcome\", predictionCol=\"prediction\", metricName=\"f1\")\n",
    "\n",
    "results_acc = acc_evaluator.evaluate(dtc_predictions)\n",
    "results_f1 = f1_evaluator.evaluate(dtc_predictions)\n",
    "results_precision = precision_evaluator.evaluate(dtc_predictions)\n",
    "results_recall = recall_evaluator.evaluate(dtc_predictions)\n",
    "\n",
    "print(\"The results for Decision Tree Model\")\n",
    "print('-'*80)\n",
    "print('Accuracy: {0:2.2f}%'.format(results_acc*100))\n",
    "print('Precision score: {0:2.2f}%'.format(results_precision*100))\n",
    "print('Recall score: {0:2.2f}%'.format(results_recall*100))\n",
    "print('F1 score: {0:2.2f}%'.format(results_f1*100))\n",
    "print('Area Under the Curve: {0:2.2f}%'.format(AUC1*100))"
   ]
  },
  {
   "cell_type": "code",
   "execution_count": 66,
   "metadata": {},
   "outputs": [
    {
     "name": "stdout",
     "output_type": "stream",
     "text": [
      "The results for Random Forest Model\n",
      "--------------------------------------------------------------------------------\n",
      "Accuracy: 79.40%\n",
      "Precision score: 75.23%\n",
      "Recall score: 79.40%\n",
      "F1 score: 70.42%\n",
      "Area Under the Curve: 50.17%\n"
     ]
    }
   ],
   "source": [
    "rfc = RandomForestClassifier(labelCol='loan_outcome',featuresCol='features',numTrees=50)\n",
    "\n",
    "\n",
    "pipeline_rfc = Pipeline(stages=[grade_indexer,grade_encoder,   \n",
    "                            home_ownership_indexer,home_ownership_encoder,\n",
    "                            term_indexer,term_encoder,\n",
    "                            purpose2_indexer,purpose2_encoder,\n",
    "                           assembler,rfc])\n",
    "train_data, test_data = data1.randomSplit([0.7,0.3])\n",
    "rfc_model = pipeline_rfc.fit(train_data)\n",
    "rfc_predictions = rfc_model.transform(test_data)\n",
    "\n",
    "my_eval = BinaryClassificationEvaluator(rawPredictionCol='prediction',\n",
    "                                       labelCol='loan_outcome')\n",
    "AUC2 = my_eval.evaluate(rfc_predictions)\n",
    "\n",
    "acc_evaluator = MulticlassClassificationEvaluator(labelCol=\"loan_outcome\", predictionCol=\"prediction\", metricName=\"accuracy\")\n",
    "precision_evaluator = MulticlassClassificationEvaluator(labelCol=\"loan_outcome\", predictionCol=\"prediction\", metricName=\"weightedPrecision\")\n",
    "recall_evaluator = MulticlassClassificationEvaluator(labelCol=\"loan_outcome\", predictionCol=\"prediction\", metricName=\"weightedRecall\")\n",
    "f1_evaluator = MulticlassClassificationEvaluator(labelCol=\"loan_outcome\", predictionCol=\"prediction\", metricName=\"f1\")\n",
    "\n",
    "results_acc = acc_evaluator.evaluate(rfc_predictions)\n",
    "results_f1 = f1_evaluator.evaluate(rfc_predictions)\n",
    "results_precision = precision_evaluator.evaluate(rfc_predictions)\n",
    "results_recall = recall_evaluator.evaluate(rfc_predictions)\n",
    "\n",
    "print(\"The results for Random Forest Model\")\n",
    "print('-'*80)\n",
    "print('Accuracy: {0:2.2f}%'.format(results_acc*100))\n",
    "print('Precision score: {0:2.2f}%'.format(results_precision*100))\n",
    "print('Recall score: {0:2.2f}%'.format(results_recall*100))\n",
    "print('F1 score: {0:2.2f}%'.format(results_f1*100))\n",
    "print('Area Under the Curve: {0:2.2f}%'.format(AUC2*100))"
   ]
  },
  {
   "cell_type": "code",
   "execution_count": 62,
   "metadata": {},
   "outputs": [
    {
     "name": "stdout",
     "output_type": "stream",
     "text": [
      "The results for Gradient Boosting Model\n",
      "--------------------------------------------------------------------------------\n",
      "Accuracy: 79.49%\n",
      "Precision score: 74.62%\n",
      "Recall score: 79.49%\n",
      "F1 score: 72.68%\n",
      "Area Under the Curve: 52.70%\n"
     ]
    }
   ],
   "source": [
    "gbt = GBTClassifier(labelCol='loan_outcome',featuresCol='features')\n",
    "pipeline_gbt = Pipeline(stages=[grade_indexer,grade_encoder,   \n",
    "                            home_ownership_indexer,home_ownership_encoder,\n",
    "                            term_indexer,term_encoder,\n",
    "                            purpose2_indexer,purpose2_encoder,\n",
    "                           assembler,gbt])\n",
    "train_data, test_data = data1.randomSplit([0.7,0.3])\n",
    "gbt_model = pipeline_gbt.fit(train_data)\n",
    "gbt_predictions = gbt_model.transform(test_data)\n",
    "my_eval = BinaryClassificationEvaluator(rawPredictionCol='prediction',\n",
    "                                       labelCol='loan_outcome')\n",
    "\n",
    "AUC3 = my_eval.evaluate(gbt_predictions)\n",
    "\n",
    "acc_evaluator = MulticlassClassificationEvaluator(labelCol=\"loan_outcome\", predictionCol=\"prediction\", metricName=\"accuracy\")\n",
    "precision_evaluator = MulticlassClassificationEvaluator(labelCol=\"loan_outcome\", predictionCol=\"prediction\", metricName=\"weightedPrecision\")\n",
    "recall_evaluator = MulticlassClassificationEvaluator(labelCol=\"loan_outcome\", predictionCol=\"prediction\", metricName=\"weightedRecall\")\n",
    "f1_evaluator = MulticlassClassificationEvaluator(labelCol=\"loan_outcome\", predictionCol=\"prediction\", metricName=\"f1\")\n",
    "\n",
    "results_acc = acc_evaluator.evaluate(gbt_predictions)\n",
    "results_f1 = f1_evaluator.evaluate(gbt_predictions)\n",
    "results_precision = precision_evaluator.evaluate(gbt_predictions)\n",
    "results_recall = recall_evaluator.evaluate(gbt_predictions)\n",
    "\n",
    "print(\"The results for Gradient Boosting Model\")\n",
    "print('-'*80)\n",
    "print('Accuracy: {0:2.2f}%'.format(results_acc*100))\n",
    "print('Precision score: {0:2.2f}%'.format(results_precision*100))\n",
    "print('Recall score: {0:2.2f}%'.format(results_recall*100))\n",
    "print('F1 score: {0:2.2f}%'.format(results_f1*100))\n",
    "print('Area Under the Curve: {0:2.2f}%'.format(AUC3*100))"
   ]
  },
  {
   "cell_type": "code",
   "execution_count": null,
   "metadata": {},
   "outputs": [],
   "source": []
  }
 ],
 "metadata": {
  "kernelspec": {
   "display_name": "Python 3",
   "language": "python",
   "name": "python3"
  },
  "language_info": {
   "codemirror_mode": {
    "name": "ipython",
    "version": 3
   },
   "file_extension": ".py",
   "mimetype": "text/x-python",
   "name": "python",
   "nbconvert_exporter": "python",
   "pygments_lexer": "ipython3",
   "version": "3.7.3"
  }
 },
 "nbformat": 4,
 "nbformat_minor": 2
}
